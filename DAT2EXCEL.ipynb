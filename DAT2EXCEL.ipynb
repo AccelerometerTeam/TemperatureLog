{
 "cells": [
  {
   "cell_type": "code",
   "execution_count": 42,
   "metadata": {
    "ExecuteTime": {
     "end_time": "2020-11-17T13:33:17.937528Z",
     "start_time": "2020-11-17T13:33:17.933540Z"
    },
    "scrolled": true
   },
   "outputs": [],
   "source": [
    "import pandas as pd\n",
    "import numpy as np"
   ]
  },
  {
   "cell_type": "code",
   "execution_count": 55,
   "metadata": {
    "ExecuteTime": {
     "end_time": "2020-11-17T14:11:10.127555Z",
     "start_time": "2020-11-17T14:11:10.120575Z"
    }
   },
   "outputs": [],
   "source": [
    "def convert2Excel(filepath):\n",
    "    test = pd.read_table(filepath,names=['UnixTime','Unknown0','Temperature','Unknown1','Unknown2'])\n",
    "    test['Time'] = pd.to_datetime(test['UnixTime'], unit='s')- pd.Timedelta(weeks=66*52+12,days=-1)\n",
    "    test['Rel.Time'] = test['Time']-test['Time'][0]\n",
    "    test['Rel.Time [h]']=test['Rel.Time']/ np.timedelta64(1, 'h')\n",
    "    test['Rel.Time [s]']=test['Rel.Time']/ np.timedelta64(1, 's')\n",
    "    #test[['Time','Temperature','Rel.Time [s]','Rel.Time [h]']].to_excel(filepath[:-4]+\".xlsx\")\n",
    "    return test[['Time','Temperature']]\n"
   ]
  },
  {
   "cell_type": "markdown",
   "metadata": {},
   "source": [
    "Please, preload above module and library.  \n",
    "Then, shift-enter the folowing command to convert the file into excel."
   ]
  },
  {
   "cell_type": "code",
   "execution_count": 56,
   "metadata": {
    "ExecuteTime": {
     "end_time": "2020-11-17T14:11:12.397906Z",
     "start_time": "2020-11-17T14:11:11.917036Z"
    }
   },
   "outputs": [],
   "source": [
    "data0=convert2Excel('Temperature/data_0.dat')\n",
    "data1=convert2Excel('Temperature/data_1.dat')\n",
    "data2=convert2Excel('Temperature/data_2.dat')\n",
    "data3=convert2Excel('Temperature/data_3.dat')"
   ]
  },
  {
   "cell_type": "code",
   "execution_count": 59,
   "metadata": {
    "ExecuteTime": {
     "end_time": "2020-11-17T14:11:22.209827Z",
     "start_time": "2020-11-17T14:11:22.196852Z"
    }
   },
   "outputs": [
    {
     "data": {
      "text/html": [
       "<div>\n",
       "<style scoped>\n",
       "    .dataframe tbody tr th:only-of-type {\n",
       "        vertical-align: middle;\n",
       "    }\n",
       "\n",
       "    .dataframe tbody tr th {\n",
       "        vertical-align: top;\n",
       "    }\n",
       "\n",
       "    .dataframe thead th {\n",
       "        text-align: right;\n",
       "    }\n",
       "</style>\n",
       "<table border=\"1\" class=\"dataframe\">\n",
       "  <thead>\n",
       "    <tr style=\"text-align: right;\">\n",
       "      <th></th>\n",
       "      <th>Time</th>\n",
       "      <th>Temperature</th>\n",
       "    </tr>\n",
       "  </thead>\n",
       "  <tbody>\n",
       "    <tr>\n",
       "      <th>0</th>\n",
       "      <td>2020-11-15 05:11:01.144999981</td>\n",
       "      <td>25.262109</td>\n",
       "    </tr>\n",
       "    <tr>\n",
       "      <th>1</th>\n",
       "      <td>2020-11-15 05:11:06.146999836</td>\n",
       "      <td>25.357477</td>\n",
       "    </tr>\n",
       "    <tr>\n",
       "      <th>2</th>\n",
       "      <td>2020-11-15 05:11:11.147999763</td>\n",
       "      <td>25.392633</td>\n",
       "    </tr>\n",
       "    <tr>\n",
       "      <th>3</th>\n",
       "      <td>2020-11-15 05:11:16.146999836</td>\n",
       "      <td>25.323541</td>\n",
       "    </tr>\n",
       "    <tr>\n",
       "      <th>4</th>\n",
       "      <td>2020-11-15 05:11:21.146999836</td>\n",
       "      <td>25.487939</td>\n",
       "    </tr>\n",
       "    <tr>\n",
       "      <th>...</th>\n",
       "      <td>...</td>\n",
       "      <td>...</td>\n",
       "    </tr>\n",
       "    <tr>\n",
       "      <th>18074</th>\n",
       "      <td>2020-11-16 06:17:11.146999836</td>\n",
       "      <td>24.788934</td>\n",
       "    </tr>\n",
       "    <tr>\n",
       "      <th>18075</th>\n",
       "      <td>2020-11-16 06:17:16.145999908</td>\n",
       "      <td>24.826837</td>\n",
       "    </tr>\n",
       "    <tr>\n",
       "      <th>18076</th>\n",
       "      <td>2020-11-16 06:17:21.147999763</td>\n",
       "      <td>24.944238</td>\n",
       "    </tr>\n",
       "    <tr>\n",
       "      <th>18077</th>\n",
       "      <td>2020-11-16 06:17:26.146999836</td>\n",
       "      <td>24.940576</td>\n",
       "    </tr>\n",
       "    <tr>\n",
       "      <th>18078</th>\n",
       "      <td>2020-11-16 06:17:31.144999981</td>\n",
       "      <td>24.996820</td>\n",
       "    </tr>\n",
       "  </tbody>\n",
       "</table>\n",
       "<p>18079 rows × 2 columns</p>\n",
       "</div>"
      ],
      "text/plain": [
       "                               Time  Temperature\n",
       "0     2020-11-15 05:11:01.144999981    25.262109\n",
       "1     2020-11-15 05:11:06.146999836    25.357477\n",
       "2     2020-11-15 05:11:11.147999763    25.392633\n",
       "3     2020-11-15 05:11:16.146999836    25.323541\n",
       "4     2020-11-15 05:11:21.146999836    25.487939\n",
       "...                             ...          ...\n",
       "18074 2020-11-16 06:17:11.146999836    24.788934\n",
       "18075 2020-11-16 06:17:16.145999908    24.826837\n",
       "18076 2020-11-16 06:17:21.147999763    24.944238\n",
       "18077 2020-11-16 06:17:26.146999836    24.940576\n",
       "18078 2020-11-16 06:17:31.144999981    24.996820\n",
       "\n",
       "[18079 rows x 2 columns]"
      ]
     },
     "execution_count": 59,
     "metadata": {},
     "output_type": "execute_result"
    }
   ],
   "source": [
    "data1"
   ]
  },
  {
   "cell_type": "code",
   "execution_count": 71,
   "metadata": {
    "ExecuteTime": {
     "end_time": "2020-11-17T14:14:06.413429Z",
     "start_time": "2020-11-17T14:14:06.397471Z"
    }
   },
   "outputs": [],
   "source": [
    "finaldata =data0.append(data1).append(data2).append(data3)\n",
    "finaldata.reset_index(drop=True, inplace=True)\n",
    "finaldata['Rel.Time'] = finaldata['Time']-finaldata['Time'][0]\n",
    "finaldata['Rel.Time [h]']=finaldata['Rel.Time']/ np.timedelta64(1, 'h')\n",
    "finaldata['Rel.Time [s]']=finaldata['Rel.Time']/ np.timedelta64(1, 's')"
   ]
  },
  {
   "cell_type": "code",
   "execution_count": 73,
   "metadata": {
    "ExecuteTime": {
     "end_time": "2020-11-17T14:14:42.029980Z",
     "start_time": "2020-11-17T14:14:34.286037Z"
    }
   },
   "outputs": [],
   "source": [
    "finaldata.to_excel(\"temperatureLog.xlsx\")"
   ]
  },
  {
   "cell_type": "code",
   "execution_count": 76,
   "metadata": {
    "ExecuteTime": {
     "end_time": "2020-11-17T14:16:08.225050Z",
     "start_time": "2020-11-17T14:16:07.991647Z"
    }
   },
   "outputs": [
    {
     "data": {
      "text/plain": [
       "<matplotlib.axes._subplots.AxesSubplot at 0x21e617dc308>"
      ]
     },
     "execution_count": 76,
     "metadata": {},
     "output_type": "execute_result"
    },
    {
     "data": {
      "image/png": "[encoded data removed]",
      "text/plain": [
       "<Figure size 432x288 with 1 Axes>"
      ]
     },
     "metadata": {
      "needs_background": "light"
     },
     "output_type": "display_data"
    }
   ],
   "source": [
    "finaldata.plot(x='Time', y= 'Temperature')"
   ]
  },
  {
   "cell_type": "code",
   "execution_count": null,
   "metadata": {},
   "outputs": [],
   "source": []
  }
 ],
 "metadata": {
  "kernelspec": {
   "display_name": "Python 3",
   "language": "python",
   "name": "python3"
  },
  "language_info": {
   "codemirror_mode": {
    "name": "ipython",
    "version": 3
   },
   "file_extension": ".py",
   "mimetype": "text/x-python",
   "name": "python",
   "nbconvert_exporter": "python",
   "pygments_lexer": "ipython3",
   "version": "3.7.6"
  }
 },
 "nbformat": 4,
 "nbformat_minor": 4
}
